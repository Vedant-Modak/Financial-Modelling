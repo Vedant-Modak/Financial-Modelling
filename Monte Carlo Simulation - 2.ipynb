{
 "cells": [
  {
   "cell_type": "markdown",
   "metadata": {},
   "source": [
    "**Vedant Modak**\n",
    "  | BE(IT) undergrad @ PES Modern College of Engineering,Pune."
   ]
  },
  {
   "cell_type": "markdown",
   "metadata": {},
   "source": [
    "**Monte-Carlo Simulation for Forecasting Stock price**"
   ]
  },
  {
   "cell_type": "code",
   "execution_count": 1,
   "metadata": {},
   "outputs": [
    {
     "name": "stderr",
     "output_type": "stream",
     "text": [
      "C:\\Users\\admin\\anaconda3\\lib\\site-packages\\pandas\\core\\computation\\expressions.py:20: UserWarning: Pandas requires version '2.7.3' or newer of 'numexpr' (version '2.7.1' currently installed).\n",
      "  from pandas.core.computation.check import NUMEXPR_INSTALLED\n",
      "UsageError: Line magic function `%matplolib` not found.\n"
     ]
    }
   ],
   "source": [
    "import pandas as pd\n",
    "import numpy as np\n",
    "import matplotlib.pyplot as plt\n",
    "from scipy.stats import norm\n",
    "%matplolib inline"
   ]
  },
  {
   "cell_type": "code",
   "execution_count": 2,
   "metadata": {},
   "outputs": [],
   "source": [
    "df=pd.read_csv('F:\\Data Analytics\\Portfolio\\Projects\\Project - 6 (Stock Market Analysis)\\TATAMOTORS.csv')"
   ]
  },
  {
   "cell_type": "code",
   "execution_count": 3,
   "metadata": {},
   "outputs": [
    {
     "data": {
      "text/html": [
       "<div>\n",
       "<style scoped>\n",
       "    .dataframe tbody tr th:only-of-type {\n",
       "        vertical-align: middle;\n",
       "    }\n",
       "\n",
       "    .dataframe tbody tr th {\n",
       "        vertical-align: top;\n",
       "    }\n",
       "\n",
       "    .dataframe thead th {\n",
       "        text-align: right;\n",
       "    }\n",
       "</style>\n",
       "<table border=\"1\" class=\"dataframe\">\n",
       "  <thead>\n",
       "    <tr style=\"text-align: right;\">\n",
       "      <th></th>\n",
       "      <th>Date</th>\n",
       "      <th>Symbol</th>\n",
       "      <th>Series</th>\n",
       "      <th>Prev Close</th>\n",
       "      <th>Open</th>\n",
       "      <th>High</th>\n",
       "      <th>Low</th>\n",
       "      <th>Last</th>\n",
       "      <th>Close</th>\n",
       "      <th>VWAP</th>\n",
       "      <th>Volume</th>\n",
       "      <th>Turnover</th>\n",
       "      <th>Trades</th>\n",
       "      <th>Deliverable Volume</th>\n",
       "      <th>%Deliverble</th>\n",
       "    </tr>\n",
       "  </thead>\n",
       "  <tbody>\n",
       "    <tr>\n",
       "      <th>0</th>\n",
       "      <td>2000-01-03</td>\n",
       "      <td>TELCO</td>\n",
       "      <td>EQ</td>\n",
       "      <td>201.60</td>\n",
       "      <td>207.4</td>\n",
       "      <td>217.25</td>\n",
       "      <td>207.4</td>\n",
       "      <td>217.0</td>\n",
       "      <td>216.75</td>\n",
       "      <td>214.28</td>\n",
       "      <td>676126</td>\n",
       "      <td>1.448775e+13</td>\n",
       "      <td>NaN</td>\n",
       "      <td>NaN</td>\n",
       "      <td>NaN</td>\n",
       "    </tr>\n",
       "    <tr>\n",
       "      <th>1</th>\n",
       "      <td>2000-01-04</td>\n",
       "      <td>TELCO</td>\n",
       "      <td>EQ</td>\n",
       "      <td>216.75</td>\n",
       "      <td>217.0</td>\n",
       "      <td>219.00</td>\n",
       "      <td>206.0</td>\n",
       "      <td>211.9</td>\n",
       "      <td>208.20</td>\n",
       "      <td>209.50</td>\n",
       "      <td>679215</td>\n",
       "      <td>1.422962e+13</td>\n",
       "      <td>NaN</td>\n",
       "      <td>NaN</td>\n",
       "      <td>NaN</td>\n",
       "    </tr>\n",
       "    <tr>\n",
       "      <th>2</th>\n",
       "      <td>2000-01-05</td>\n",
       "      <td>TELCO</td>\n",
       "      <td>EQ</td>\n",
       "      <td>208.20</td>\n",
       "      <td>194.0</td>\n",
       "      <td>217.80</td>\n",
       "      <td>194.0</td>\n",
       "      <td>213.1</td>\n",
       "      <td>213.25</td>\n",
       "      <td>210.33</td>\n",
       "      <td>1120951</td>\n",
       "      <td>2.357684e+13</td>\n",
       "      <td>NaN</td>\n",
       "      <td>NaN</td>\n",
       "      <td>NaN</td>\n",
       "    </tr>\n",
       "    <tr>\n",
       "      <th>3</th>\n",
       "      <td>2000-01-06</td>\n",
       "      <td>TELCO</td>\n",
       "      <td>EQ</td>\n",
       "      <td>213.25</td>\n",
       "      <td>215.0</td>\n",
       "      <td>229.90</td>\n",
       "      <td>215.0</td>\n",
       "      <td>222.0</td>\n",
       "      <td>222.10</td>\n",
       "      <td>225.29</td>\n",
       "      <td>1968998</td>\n",
       "      <td>4.435932e+13</td>\n",
       "      <td>NaN</td>\n",
       "      <td>NaN</td>\n",
       "      <td>NaN</td>\n",
       "    </tr>\n",
       "    <tr>\n",
       "      <th>4</th>\n",
       "      <td>2000-01-07</td>\n",
       "      <td>TELCO</td>\n",
       "      <td>EQ</td>\n",
       "      <td>222.10</td>\n",
       "      <td>224.0</td>\n",
       "      <td>239.90</td>\n",
       "      <td>223.1</td>\n",
       "      <td>239.9</td>\n",
       "      <td>239.90</td>\n",
       "      <td>236.32</td>\n",
       "      <td>2199431</td>\n",
       "      <td>5.197636e+13</td>\n",
       "      <td>NaN</td>\n",
       "      <td>NaN</td>\n",
       "      <td>NaN</td>\n",
       "    </tr>\n",
       "  </tbody>\n",
       "</table>\n",
       "</div>"
      ],
      "text/plain": [
       "         Date Symbol Series  Prev Close   Open    High    Low   Last   Close  \\\n",
       "0  2000-01-03  TELCO     EQ      201.60  207.4  217.25  207.4  217.0  216.75   \n",
       "1  2000-01-04  TELCO     EQ      216.75  217.0  219.00  206.0  211.9  208.20   \n",
       "2  2000-01-05  TELCO     EQ      208.20  194.0  217.80  194.0  213.1  213.25   \n",
       "3  2000-01-06  TELCO     EQ      213.25  215.0  229.90  215.0  222.0  222.10   \n",
       "4  2000-01-07  TELCO     EQ      222.10  224.0  239.90  223.1  239.9  239.90   \n",
       "\n",
       "     VWAP   Volume      Turnover  Trades  Deliverable Volume  %Deliverble  \n",
       "0  214.28   676126  1.448775e+13     NaN                 NaN          NaN  \n",
       "1  209.50   679215  1.422962e+13     NaN                 NaN          NaN  \n",
       "2  210.33  1120951  2.357684e+13     NaN                 NaN          NaN  \n",
       "3  225.29  1968998  4.435932e+13     NaN                 NaN          NaN  \n",
       "4  236.32  2199431  5.197636e+13     NaN                 NaN          NaN  "
      ]
     },
     "execution_count": 3,
     "metadata": {},
     "output_type": "execute_result"
    }
   ],
   "source": [
    "df.head()"
   ]
  },
  {
   "cell_type": "code",
   "execution_count": 4,
   "metadata": {},
   "outputs": [
    {
     "data": {
      "text/html": [
       "<div>\n",
       "<style scoped>\n",
       "    .dataframe tbody tr th:only-of-type {\n",
       "        vertical-align: middle;\n",
       "    }\n",
       "\n",
       "    .dataframe tbody tr th {\n",
       "        vertical-align: top;\n",
       "    }\n",
       "\n",
       "    .dataframe thead th {\n",
       "        text-align: right;\n",
       "    }\n",
       "</style>\n",
       "<table border=\"1\" class=\"dataframe\">\n",
       "  <thead>\n",
       "    <tr style=\"text-align: right;\">\n",
       "      <th></th>\n",
       "      <th>Symbol</th>\n",
       "      <th>Series</th>\n",
       "      <th>Prev Close</th>\n",
       "      <th>Open</th>\n",
       "      <th>High</th>\n",
       "      <th>Low</th>\n",
       "      <th>Last</th>\n",
       "      <th>Close</th>\n",
       "      <th>VWAP</th>\n",
       "      <th>Volume</th>\n",
       "      <th>Turnover</th>\n",
       "      <th>Trades</th>\n",
       "      <th>Deliverable Volume</th>\n",
       "      <th>%Deliverble</th>\n",
       "    </tr>\n",
       "    <tr>\n",
       "      <th>Date</th>\n",
       "      <th></th>\n",
       "      <th></th>\n",
       "      <th></th>\n",
       "      <th></th>\n",
       "      <th></th>\n",
       "      <th></th>\n",
       "      <th></th>\n",
       "      <th></th>\n",
       "      <th></th>\n",
       "      <th></th>\n",
       "      <th></th>\n",
       "      <th></th>\n",
       "      <th></th>\n",
       "      <th></th>\n",
       "    </tr>\n",
       "  </thead>\n",
       "  <tbody>\n",
       "    <tr>\n",
       "      <th>2000-01-03</th>\n",
       "      <td>TELCO</td>\n",
       "      <td>EQ</td>\n",
       "      <td>201.60</td>\n",
       "      <td>207.4</td>\n",
       "      <td>217.25</td>\n",
       "      <td>207.40</td>\n",
       "      <td>217.00</td>\n",
       "      <td>216.75</td>\n",
       "      <td>214.28</td>\n",
       "      <td>676126</td>\n",
       "      <td>1.448775e+13</td>\n",
       "      <td>NaN</td>\n",
       "      <td>NaN</td>\n",
       "      <td>NaN</td>\n",
       "    </tr>\n",
       "    <tr>\n",
       "      <th>2000-01-04</th>\n",
       "      <td>TELCO</td>\n",
       "      <td>EQ</td>\n",
       "      <td>216.75</td>\n",
       "      <td>217.0</td>\n",
       "      <td>219.00</td>\n",
       "      <td>206.00</td>\n",
       "      <td>211.90</td>\n",
       "      <td>208.20</td>\n",
       "      <td>209.50</td>\n",
       "      <td>679215</td>\n",
       "      <td>1.422962e+13</td>\n",
       "      <td>NaN</td>\n",
       "      <td>NaN</td>\n",
       "      <td>NaN</td>\n",
       "    </tr>\n",
       "    <tr>\n",
       "      <th>2000-01-05</th>\n",
       "      <td>TELCO</td>\n",
       "      <td>EQ</td>\n",
       "      <td>208.20</td>\n",
       "      <td>194.0</td>\n",
       "      <td>217.80</td>\n",
       "      <td>194.00</td>\n",
       "      <td>213.10</td>\n",
       "      <td>213.25</td>\n",
       "      <td>210.33</td>\n",
       "      <td>1120951</td>\n",
       "      <td>2.357684e+13</td>\n",
       "      <td>NaN</td>\n",
       "      <td>NaN</td>\n",
       "      <td>NaN</td>\n",
       "    </tr>\n",
       "    <tr>\n",
       "      <th>2000-01-06</th>\n",
       "      <td>TELCO</td>\n",
       "      <td>EQ</td>\n",
       "      <td>213.25</td>\n",
       "      <td>215.0</td>\n",
       "      <td>229.90</td>\n",
       "      <td>215.00</td>\n",
       "      <td>222.00</td>\n",
       "      <td>222.10</td>\n",
       "      <td>225.29</td>\n",
       "      <td>1968998</td>\n",
       "      <td>4.435932e+13</td>\n",
       "      <td>NaN</td>\n",
       "      <td>NaN</td>\n",
       "      <td>NaN</td>\n",
       "    </tr>\n",
       "    <tr>\n",
       "      <th>2000-01-07</th>\n",
       "      <td>TELCO</td>\n",
       "      <td>EQ</td>\n",
       "      <td>222.10</td>\n",
       "      <td>224.0</td>\n",
       "      <td>239.90</td>\n",
       "      <td>223.10</td>\n",
       "      <td>239.90</td>\n",
       "      <td>239.90</td>\n",
       "      <td>236.32</td>\n",
       "      <td>2199431</td>\n",
       "      <td>5.197636e+13</td>\n",
       "      <td>NaN</td>\n",
       "      <td>NaN</td>\n",
       "      <td>NaN</td>\n",
       "    </tr>\n",
       "    <tr>\n",
       "      <th>...</th>\n",
       "      <td>...</td>\n",
       "      <td>...</td>\n",
       "      <td>...</td>\n",
       "      <td>...</td>\n",
       "      <td>...</td>\n",
       "      <td>...</td>\n",
       "      <td>...</td>\n",
       "      <td>...</td>\n",
       "      <td>...</td>\n",
       "      <td>...</td>\n",
       "      <td>...</td>\n",
       "      <td>...</td>\n",
       "      <td>...</td>\n",
       "      <td>...</td>\n",
       "    </tr>\n",
       "    <tr>\n",
       "      <th>2021-04-26</th>\n",
       "      <td>TATAMOTORS</td>\n",
       "      <td>EQ</td>\n",
       "      <td>294.00</td>\n",
       "      <td>297.0</td>\n",
       "      <td>299.00</td>\n",
       "      <td>294.60</td>\n",
       "      <td>295.85</td>\n",
       "      <td>295.40</td>\n",
       "      <td>296.48</td>\n",
       "      <td>30583139</td>\n",
       "      <td>9.067386e+14</td>\n",
       "      <td>173282.0</td>\n",
       "      <td>3291167.0</td>\n",
       "      <td>0.1076</td>\n",
       "    </tr>\n",
       "    <tr>\n",
       "      <th>2021-04-27</th>\n",
       "      <td>TATAMOTORS</td>\n",
       "      <td>EQ</td>\n",
       "      <td>295.40</td>\n",
       "      <td>295.7</td>\n",
       "      <td>302.50</td>\n",
       "      <td>295.10</td>\n",
       "      <td>302.10</td>\n",
       "      <td>301.50</td>\n",
       "      <td>299.05</td>\n",
       "      <td>35040532</td>\n",
       "      <td>1.047879e+15</td>\n",
       "      <td>191627.0</td>\n",
       "      <td>5215100.0</td>\n",
       "      <td>0.1488</td>\n",
       "    </tr>\n",
       "    <tr>\n",
       "      <th>2021-04-28</th>\n",
       "      <td>TATAMOTORS</td>\n",
       "      <td>EQ</td>\n",
       "      <td>301.50</td>\n",
       "      <td>303.5</td>\n",
       "      <td>309.50</td>\n",
       "      <td>303.00</td>\n",
       "      <td>305.15</td>\n",
       "      <td>305.90</td>\n",
       "      <td>307.22</td>\n",
       "      <td>44668126</td>\n",
       "      <td>1.372278e+15</td>\n",
       "      <td>264159.0</td>\n",
       "      <td>5116568.0</td>\n",
       "      <td>0.1145</td>\n",
       "    </tr>\n",
       "    <tr>\n",
       "      <th>2021-04-29</th>\n",
       "      <td>TATAMOTORS</td>\n",
       "      <td>EQ</td>\n",
       "      <td>305.90</td>\n",
       "      <td>308.9</td>\n",
       "      <td>310.00</td>\n",
       "      <td>301.25</td>\n",
       "      <td>302.20</td>\n",
       "      <td>301.90</td>\n",
       "      <td>304.77</td>\n",
       "      <td>36647292</td>\n",
       "      <td>1.116900e+15</td>\n",
       "      <td>186996.0</td>\n",
       "      <td>4193346.0</td>\n",
       "      <td>0.1144</td>\n",
       "    </tr>\n",
       "    <tr>\n",
       "      <th>2021-04-30</th>\n",
       "      <td>TATAMOTORS</td>\n",
       "      <td>EQ</td>\n",
       "      <td>301.90</td>\n",
       "      <td>298.2</td>\n",
       "      <td>301.30</td>\n",
       "      <td>292.55</td>\n",
       "      <td>293.10</td>\n",
       "      <td>293.85</td>\n",
       "      <td>297.01</td>\n",
       "      <td>36121668</td>\n",
       "      <td>1.072849e+15</td>\n",
       "      <td>227806.0</td>\n",
       "      <td>7898988.0</td>\n",
       "      <td>0.2187</td>\n",
       "    </tr>\n",
       "  </tbody>\n",
       "</table>\n",
       "<p>5306 rows × 14 columns</p>\n",
       "</div>"
      ],
      "text/plain": [
       "                Symbol Series  Prev Close   Open    High     Low    Last  \\\n",
       "Date                                                                       \n",
       "2000-01-03       TELCO     EQ      201.60  207.4  217.25  207.40  217.00   \n",
       "2000-01-04       TELCO     EQ      216.75  217.0  219.00  206.00  211.90   \n",
       "2000-01-05       TELCO     EQ      208.20  194.0  217.80  194.00  213.10   \n",
       "2000-01-06       TELCO     EQ      213.25  215.0  229.90  215.00  222.00   \n",
       "2000-01-07       TELCO     EQ      222.10  224.0  239.90  223.10  239.90   \n",
       "...                ...    ...         ...    ...     ...     ...     ...   \n",
       "2021-04-26  TATAMOTORS     EQ      294.00  297.0  299.00  294.60  295.85   \n",
       "2021-04-27  TATAMOTORS     EQ      295.40  295.7  302.50  295.10  302.10   \n",
       "2021-04-28  TATAMOTORS     EQ      301.50  303.5  309.50  303.00  305.15   \n",
       "2021-04-29  TATAMOTORS     EQ      305.90  308.9  310.00  301.25  302.20   \n",
       "2021-04-30  TATAMOTORS     EQ      301.90  298.2  301.30  292.55  293.10   \n",
       "\n",
       "             Close    VWAP    Volume      Turnover    Trades  \\\n",
       "Date                                                           \n",
       "2000-01-03  216.75  214.28    676126  1.448775e+13       NaN   \n",
       "2000-01-04  208.20  209.50    679215  1.422962e+13       NaN   \n",
       "2000-01-05  213.25  210.33   1120951  2.357684e+13       NaN   \n",
       "2000-01-06  222.10  225.29   1968998  4.435932e+13       NaN   \n",
       "2000-01-07  239.90  236.32   2199431  5.197636e+13       NaN   \n",
       "...            ...     ...       ...           ...       ...   \n",
       "2021-04-26  295.40  296.48  30583139  9.067386e+14  173282.0   \n",
       "2021-04-27  301.50  299.05  35040532  1.047879e+15  191627.0   \n",
       "2021-04-28  305.90  307.22  44668126  1.372278e+15  264159.0   \n",
       "2021-04-29  301.90  304.77  36647292  1.116900e+15  186996.0   \n",
       "2021-04-30  293.85  297.01  36121668  1.072849e+15  227806.0   \n",
       "\n",
       "            Deliverable Volume  %Deliverble  \n",
       "Date                                         \n",
       "2000-01-03                 NaN          NaN  \n",
       "2000-01-04                 NaN          NaN  \n",
       "2000-01-05                 NaN          NaN  \n",
       "2000-01-06                 NaN          NaN  \n",
       "2000-01-07                 NaN          NaN  \n",
       "...                        ...          ...  \n",
       "2021-04-26           3291167.0       0.1076  \n",
       "2021-04-27           5215100.0       0.1488  \n",
       "2021-04-28           5116568.0       0.1145  \n",
       "2021-04-29           4193346.0       0.1144  \n",
       "2021-04-30           7898988.0       0.2187  \n",
       "\n",
       "[5306 rows x 14 columns]"
      ]
     },
     "execution_count": 4,
     "metadata": {},
     "output_type": "execute_result"
    }
   ],
   "source": [
    "df.set_index('Date')"
   ]
  },
  {
   "cell_type": "code",
   "execution_count": 5,
   "metadata": {},
   "outputs": [],
   "source": [
    "df.rename(columns={\"VWAP\": \"TATAMOTORSVWAP\"}, inplace=True)"
   ]
  },
  {
   "cell_type": "code",
   "execution_count": 6,
   "metadata": {},
   "outputs": [
    {
     "data": {
      "text/html": [
       "<div>\n",
       "<style scoped>\n",
       "    .dataframe tbody tr th:only-of-type {\n",
       "        vertical-align: middle;\n",
       "    }\n",
       "\n",
       "    .dataframe tbody tr th {\n",
       "        vertical-align: top;\n",
       "    }\n",
       "\n",
       "    .dataframe thead th {\n",
       "        text-align: right;\n",
       "    }\n",
       "</style>\n",
       "<table border=\"1\" class=\"dataframe\">\n",
       "  <thead>\n",
       "    <tr style=\"text-align: right;\">\n",
       "      <th></th>\n",
       "      <th>Date</th>\n",
       "      <th>Symbol</th>\n",
       "      <th>Series</th>\n",
       "      <th>Prev Close</th>\n",
       "      <th>Open</th>\n",
       "      <th>High</th>\n",
       "      <th>Low</th>\n",
       "      <th>Last</th>\n",
       "      <th>Close</th>\n",
       "      <th>TATAMOTORSVWAP</th>\n",
       "      <th>Volume</th>\n",
       "      <th>Turnover</th>\n",
       "      <th>Trades</th>\n",
       "      <th>Deliverable Volume</th>\n",
       "      <th>%Deliverble</th>\n",
       "    </tr>\n",
       "  </thead>\n",
       "  <tbody>\n",
       "    <tr>\n",
       "      <th>0</th>\n",
       "      <td>2000-01-03</td>\n",
       "      <td>TELCO</td>\n",
       "      <td>EQ</td>\n",
       "      <td>201.60</td>\n",
       "      <td>207.4</td>\n",
       "      <td>217.25</td>\n",
       "      <td>207.4</td>\n",
       "      <td>217.0</td>\n",
       "      <td>216.75</td>\n",
       "      <td>214.28</td>\n",
       "      <td>676126</td>\n",
       "      <td>1.448775e+13</td>\n",
       "      <td>NaN</td>\n",
       "      <td>NaN</td>\n",
       "      <td>NaN</td>\n",
       "    </tr>\n",
       "    <tr>\n",
       "      <th>1</th>\n",
       "      <td>2000-01-04</td>\n",
       "      <td>TELCO</td>\n",
       "      <td>EQ</td>\n",
       "      <td>216.75</td>\n",
       "      <td>217.0</td>\n",
       "      <td>219.00</td>\n",
       "      <td>206.0</td>\n",
       "      <td>211.9</td>\n",
       "      <td>208.20</td>\n",
       "      <td>209.50</td>\n",
       "      <td>679215</td>\n",
       "      <td>1.422962e+13</td>\n",
       "      <td>NaN</td>\n",
       "      <td>NaN</td>\n",
       "      <td>NaN</td>\n",
       "    </tr>\n",
       "    <tr>\n",
       "      <th>2</th>\n",
       "      <td>2000-01-05</td>\n",
       "      <td>TELCO</td>\n",
       "      <td>EQ</td>\n",
       "      <td>208.20</td>\n",
       "      <td>194.0</td>\n",
       "      <td>217.80</td>\n",
       "      <td>194.0</td>\n",
       "      <td>213.1</td>\n",
       "      <td>213.25</td>\n",
       "      <td>210.33</td>\n",
       "      <td>1120951</td>\n",
       "      <td>2.357684e+13</td>\n",
       "      <td>NaN</td>\n",
       "      <td>NaN</td>\n",
       "      <td>NaN</td>\n",
       "    </tr>\n",
       "    <tr>\n",
       "      <th>3</th>\n",
       "      <td>2000-01-06</td>\n",
       "      <td>TELCO</td>\n",
       "      <td>EQ</td>\n",
       "      <td>213.25</td>\n",
       "      <td>215.0</td>\n",
       "      <td>229.90</td>\n",
       "      <td>215.0</td>\n",
       "      <td>222.0</td>\n",
       "      <td>222.10</td>\n",
       "      <td>225.29</td>\n",
       "      <td>1968998</td>\n",
       "      <td>4.435932e+13</td>\n",
       "      <td>NaN</td>\n",
       "      <td>NaN</td>\n",
       "      <td>NaN</td>\n",
       "    </tr>\n",
       "    <tr>\n",
       "      <th>4</th>\n",
       "      <td>2000-01-07</td>\n",
       "      <td>TELCO</td>\n",
       "      <td>EQ</td>\n",
       "      <td>222.10</td>\n",
       "      <td>224.0</td>\n",
       "      <td>239.90</td>\n",
       "      <td>223.1</td>\n",
       "      <td>239.9</td>\n",
       "      <td>239.90</td>\n",
       "      <td>236.32</td>\n",
       "      <td>2199431</td>\n",
       "      <td>5.197636e+13</td>\n",
       "      <td>NaN</td>\n",
       "      <td>NaN</td>\n",
       "      <td>NaN</td>\n",
       "    </tr>\n",
       "  </tbody>\n",
       "</table>\n",
       "</div>"
      ],
      "text/plain": [
       "         Date Symbol Series  Prev Close   Open    High    Low   Last   Close  \\\n",
       "0  2000-01-03  TELCO     EQ      201.60  207.4  217.25  207.4  217.0  216.75   \n",
       "1  2000-01-04  TELCO     EQ      216.75  217.0  219.00  206.0  211.9  208.20   \n",
       "2  2000-01-05  TELCO     EQ      208.20  194.0  217.80  194.0  213.1  213.25   \n",
       "3  2000-01-06  TELCO     EQ      213.25  215.0  229.90  215.0  222.0  222.10   \n",
       "4  2000-01-07  TELCO     EQ      222.10  224.0  239.90  223.1  239.9  239.90   \n",
       "\n",
       "   TATAMOTORSVWAP   Volume      Turnover  Trades  Deliverable Volume  \\\n",
       "0          214.28   676126  1.448775e+13     NaN                 NaN   \n",
       "1          209.50   679215  1.422962e+13     NaN                 NaN   \n",
       "2          210.33  1120951  2.357684e+13     NaN                 NaN   \n",
       "3          225.29  1968998  4.435932e+13     NaN                 NaN   \n",
       "4          236.32  2199431  5.197636e+13     NaN                 NaN   \n",
       "\n",
       "   %Deliverble  \n",
       "0          NaN  \n",
       "1          NaN  \n",
       "2          NaN  \n",
       "3          NaN  \n",
       "4          NaN  "
      ]
     },
     "execution_count": 6,
     "metadata": {},
     "output_type": "execute_result"
    }
   ],
   "source": [
    "df.head()"
   ]
  },
  {
   "cell_type": "code",
   "execution_count": 7,
   "metadata": {},
   "outputs": [],
   "source": [
    "df1=df['TATAMOTORSVWAP']"
   ]
  },
  {
   "cell_type": "code",
   "execution_count": 8,
   "metadata": {},
   "outputs": [
    {
     "data": {
      "text/plain": [
       "0       214.28\n",
       "1       209.50\n",
       "2       210.33\n",
       "3       225.29\n",
       "4       236.32\n",
       "         ...  \n",
       "5301    296.48\n",
       "5302    299.05\n",
       "5303    307.22\n",
       "5304    304.77\n",
       "5305    297.01\n",
       "Name: TATAMOTORSVWAP, Length: 5306, dtype: float64"
      ]
     },
     "execution_count": 8,
     "metadata": {},
     "output_type": "execute_result"
    }
   ],
   "source": [
    "df1"
   ]
  },
  {
   "cell_type": "code",
   "execution_count": 9,
   "metadata": {},
   "outputs": [],
   "source": [
    "log_return=np.log(df1/df1.shift(1))"
   ]
  },
  {
   "cell_type": "code",
   "execution_count": 11,
   "metadata": {},
   "outputs": [
    {
     "data": {
      "text/plain": [
       "5301    0.004869\n",
       "5302    0.008631\n",
       "5303    0.026953\n",
       "5304   -0.008007\n",
       "5305   -0.025792\n",
       "Name: TATAMOTORSVWAP, dtype: float64"
      ]
     },
     "execution_count": 11,
     "metadata": {},
     "output_type": "execute_result"
    }
   ],
   "source": [
    "log_return.tail()"
   ]
  },
  {
   "cell_type": "code",
   "execution_count": 13,
   "metadata": {},
   "outputs": [
    {
     "data": {
      "text/plain": [
       "<AxesSubplot:>"
      ]
     },
     "execution_count": 13,
     "metadata": {},
     "output_type": "execute_result"
    },
    {
     "data": {
      "image/png": "[encoded data removed]",
      "text/plain": [
       "<Figure size 720x432 with 1 Axes>"
      ]
     },
     "metadata": {
      "needs_background": "light"
     },
     "output_type": "display_data"
    }
   ],
   "source": [
    "df1.plot(figsize=(10,6))"
   ]
  },
  {
   "cell_type": "code",
   "execution_count": 12,
   "metadata": {},
   "outputs": [
    {
     "data": {
      "text/plain": [
       "<AxesSubplot:>"
      ]
     },
     "execution_count": 12,
     "metadata": {},
     "output_type": "execute_result"
    },
    {
     "data": {
      "image/png": "[encoded data removed]",
      "text/plain": [
       "<Figure size 720x432 with 1 Axes>"
      ]
     },
     "metadata": {
      "needs_background": "light"
     },
     "output_type": "display_data"
    }
   ],
   "source": [
    "log_return.plot(figsize=(10,6))"
   ]
  },
  {
   "cell_type": "code",
   "execution_count": 14,
   "metadata": {},
   "outputs": [
    {
     "data": {
      "text/plain": [
       "6.154236329062858e-05"
      ]
     },
     "execution_count": 14,
     "metadata": {},
     "output_type": "execute_result"
    }
   ],
   "source": [
    "u=log_return.mean()\n",
    "u"
   ]
  },
  {
   "cell_type": "code",
   "execution_count": 15,
   "metadata": {},
   "outputs": [
    {
     "data": {
      "text/plain": [
       "0.0011684675951144697"
      ]
     },
     "execution_count": 15,
     "metadata": {},
     "output_type": "execute_result"
    }
   ],
   "source": [
    "var=log_return.var()\n",
    "var"
   ]
  },
  {
   "cell_type": "code",
   "execution_count": 16,
   "metadata": {},
   "outputs": [
    {
     "data": {
      "text/plain": [
       "-0.0005226914342666062"
      ]
     },
     "execution_count": 16,
     "metadata": {},
     "output_type": "execute_result"
    }
   ],
   "source": [
    "drift=u-(0.5*var)\n",
    "drift"
   ]
  },
  {
   "cell_type": "code",
   "execution_count": 17,
   "metadata": {},
   "outputs": [
    {
     "data": {
      "text/plain": [
       "0.034182855280307844"
      ]
     },
     "execution_count": 17,
     "metadata": {},
     "output_type": "execute_result"
    }
   ],
   "source": [
    "stddev=log_return.std()\n",
    "stddev"
   ]
  },
  {
   "cell_type": "code",
   "execution_count": 18,
   "metadata": {},
   "outputs": [
    {
     "data": {
      "text/plain": [
       "numpy.float64"
      ]
     },
     "execution_count": 18,
     "metadata": {},
     "output_type": "execute_result"
    }
   ],
   "source": [
    "type(drift)"
   ]
  },
  {
   "cell_type": "code",
   "execution_count": 19,
   "metadata": {},
   "outputs": [
    {
     "data": {
      "text/plain": [
       "float"
      ]
     },
     "execution_count": 19,
     "metadata": {},
     "output_type": "execute_result"
    }
   ],
   "source": [
    "type(stddev)"
   ]
  },
  {
   "cell_type": "code",
   "execution_count": 20,
   "metadata": {},
   "outputs": [
    {
     "data": {
      "text/plain": [
       "array(-0.00052269)"
      ]
     },
     "execution_count": 20,
     "metadata": {},
     "output_type": "execute_result"
    }
   ],
   "source": [
    "np.array(drift)"
   ]
  },
  {
   "cell_type": "code",
   "execution_count": 23,
   "metadata": {},
   "outputs": [
    {
     "data": {
      "text/plain": [
       "1.6448536269514722"
      ]
     },
     "execution_count": 23,
     "metadata": {},
     "output_type": "execute_result"
    }
   ],
   "source": [
    "norm.ppf(0.95)"
   ]
  },
  {
   "cell_type": "code",
   "execution_count": 24,
   "metadata": {},
   "outputs": [
    {
     "data": {
      "text/plain": [
       "array([[0.67733057, 0.68062174],\n",
       "       [0.81773213, 0.77863405],\n",
       "       [0.14046054, 0.37031857],\n",
       "       [0.04113757, 0.7129317 ],\n",
       "       [0.09722158, 0.45745265],\n",
       "       [0.43839383, 0.23547191],\n",
       "       [0.22077324, 0.36431902],\n",
       "       [0.04628921, 0.71120301],\n",
       "       [0.33800415, 0.71164328],\n",
       "       [0.67189206, 0.96293427]])"
      ]
     },
     "execution_count": 24,
     "metadata": {},
     "output_type": "execute_result"
    }
   ],
   "source": [
    "x=np.random.rand(10,2)\n",
    "x"
   ]
  },
  {
   "cell_type": "code",
   "execution_count": 25,
   "metadata": {},
   "outputs": [
    {
     "data": {
      "text/plain": [
       "array([[ 0.4602471 ,  0.46943811],\n",
       "       [ 0.90675619,  0.76758817],\n",
       "       [-1.07825252, -0.33100973],\n",
       "       [-1.73763504,  0.5619698 ],\n",
       "       [-1.29754669, -0.10685337],\n",
       "       [-0.15504269, -0.72094424],\n",
       "       [-0.76958437, -0.3469378 ],\n",
       "       [-1.68195063,  0.55690261],\n",
       "       [-0.41791631,  0.55819177],\n",
       "       [ 0.44514375,  1.78580117]])"
      ]
     },
     "execution_count": 25,
     "metadata": {},
     "output_type": "execute_result"
    }
   ],
   "source": [
    "norm.ppf(x)"
   ]
  },
  {
   "cell_type": "code",
   "execution_count": 26,
   "metadata": {},
   "outputs": [
    {
     "data": {
      "text/plain": [
       "array([[ 0.43853014, -0.35812289],\n",
       "       [ 0.8059603 , -0.10883897],\n",
       "       [-0.67315017,  1.39163153],\n",
       "       [ 0.46297885, -0.09789878],\n",
       "       [-1.64355347, -0.1972244 ],\n",
       "       [-1.01918529, -0.41583725],\n",
       "       [-1.0620143 ,  2.40160005],\n",
       "       [ 0.7938523 ,  1.82693995],\n",
       "       [-0.02845352, -0.91480443],\n",
       "       [-0.41661115,  1.26526646]])"
      ]
     },
     "execution_count": 26,
     "metadata": {},
     "output_type": "execute_result"
    }
   ],
   "source": [
    "z=norm.ppf(np.random.rand(10,2))\n",
    "z"
   ]
  },
  {
   "cell_type": "code",
   "execution_count": 27,
   "metadata": {},
   "outputs": [],
   "source": [
    "t_intervals=1000\n",
    "iterations=10"
   ]
  },
  {
   "cell_type": "code",
   "execution_count": 28,
   "metadata": {},
   "outputs": [],
   "source": [
    "daily_returns=np.exp(drift+stddev*norm.ppf(np.random.rand(t_intervals, iterations)))"
   ]
  },
  {
   "cell_type": "code",
   "execution_count": 29,
   "metadata": {},
   "outputs": [
    {
     "data": {
      "text/plain": [
       "array([[1.0676076 , 0.97405208, 0.97670621, ..., 0.95840919, 0.98244433,\n",
       "        0.97562928],\n",
       "       [1.02721877, 1.05895102, 0.96344174, ..., 1.04765126, 1.03391709,\n",
       "        0.95909668],\n",
       "       [1.03084645, 1.06594919, 1.00641324, ..., 0.98440218, 0.98116074,\n",
       "        1.00982427],\n",
       "       ...,\n",
       "       [1.04754013, 1.00139931, 1.06891924, ..., 0.99490077, 1.00031996,\n",
       "        1.02620854],\n",
       "       [0.96271837, 0.96176937, 1.01721908, ..., 0.98533618, 0.9780879 ,\n",
       "        0.99433614],\n",
       "       [0.93908823, 0.99663589, 0.99277003, ..., 1.03101979, 1.06067258,\n",
       "        0.99919161]])"
      ]
     },
     "execution_count": 29,
     "metadata": {},
     "output_type": "execute_result"
    }
   ],
   "source": [
    "daily_returns"
   ]
  },
  {
   "cell_type": "code",
   "execution_count": 31,
   "metadata": {},
   "outputs": [
    {
     "data": {
      "text/plain": [
       "297.01"
      ]
     },
     "execution_count": 31,
     "metadata": {},
     "output_type": "execute_result"
    }
   ],
   "source": [
    "S0=df1.iloc[-1]\n",
    "S0"
   ]
  },
  {
   "cell_type": "code",
   "execution_count": 33,
   "metadata": {},
   "outputs": [],
   "source": [
    "price_list=np.zeros_like(daily_returns)"
   ]
  },
  {
   "cell_type": "code",
   "execution_count": 34,
   "metadata": {},
   "outputs": [
    {
     "data": {
      "text/plain": [
       "array([[0., 0., 0., ..., 0., 0., 0.],\n",
       "       [0., 0., 0., ..., 0., 0., 0.],\n",
       "       [0., 0., 0., ..., 0., 0., 0.],\n",
       "       ...,\n",
       "       [0., 0., 0., ..., 0., 0., 0.],\n",
       "       [0., 0., 0., ..., 0., 0., 0.],\n",
       "       [0., 0., 0., ..., 0., 0., 0.]])"
      ]
     },
     "execution_count": 34,
     "metadata": {},
     "output_type": "execute_result"
    }
   ],
   "source": [
    "price_list"
   ]
  },
  {
   "cell_type": "code",
   "execution_count": 35,
   "metadata": {},
   "outputs": [
    {
     "data": {
      "text/plain": [
       "array([[50., 50., 50., ..., 50., 50., 50.],\n",
       "       [ 0.,  0.,  0., ...,  0.,  0.,  0.],\n",
       "       [ 0.,  0.,  0., ...,  0.,  0.,  0.],\n",
       "       ...,\n",
       "       [ 0.,  0.,  0., ...,  0.,  0.,  0.],\n",
       "       [ 0.,  0.,  0., ...,  0.,  0.,  0.],\n",
       "       [ 0.,  0.,  0., ...,  0.,  0.,  0.]])"
      ]
     },
     "execution_count": 35,
     "metadata": {},
     "output_type": "execute_result"
    }
   ],
   "source": [
    "price_list[0]=50\n",
    "price_list"
   ]
  },
  {
   "cell_type": "code",
   "execution_count": 36,
   "metadata": {},
   "outputs": [],
   "source": [
    "for t in range(1, t_intervals):\n",
    "    price_list[t]=price_list[t-1]*daily_returns[t]"
   ]
  },
  {
   "cell_type": "code",
   "execution_count": 37,
   "metadata": {
    "scrolled": true
   },
   "outputs": [
    {
     "data": {
      "text/plain": [
       "array([[ 50.        ,  50.        ,  50.        , ...,  50.        ,\n",
       "         50.        ,  50.        ],\n",
       "       [ 51.36093855,  52.94755124,  48.17208725, ...,  52.38256291,\n",
       "         51.69585435,  47.95483375],\n",
       "       [ 52.94524105,  56.43939931,  48.48102664, ...,  51.56550922,\n",
       "         50.72194292,  48.42595505],\n",
       "       ...,\n",
       "       [110.52990933,  17.31064617,   2.26481215, ...,  20.83221938,\n",
       "         58.23529645,  67.37549101],\n",
       "       [106.40917365,  16.64884929,   2.30381012, ...,  20.52673943,\n",
       "         56.95923868,  66.99388537],\n",
       "       [ 99.92760216,  16.59284069,   2.28715364, ...,  21.1634746 ,\n",
       "         60.41510244,  66.93972798]])"
      ]
     },
     "execution_count": 37,
     "metadata": {},
     "output_type": "execute_result"
    }
   ],
   "source": [
    "price_list"
   ]
  },
  {
   "cell_type": "markdown",
   "metadata": {},
   "source": [
    "**Lets Visualize 10 possible stock prices**"
   ]
  },
  {
   "cell_type": "code",
   "execution_count": 38,
   "metadata": {},
   "outputs": [
    {
     "data": {
      "text/plain": [
       "[<matplotlib.lines.Line2D at 0x15e70640>,\n",
       " <matplotlib.lines.Line2D at 0x15e70700>,\n",
       " <matplotlib.lines.Line2D at 0x15e707c0>,\n",
       " <matplotlib.lines.Line2D at 0x15e70880>,\n",
       " <matplotlib.lines.Line2D at 0x15e70940>,\n",
       " <matplotlib.lines.Line2D at 0x15e70a00>,\n",
       " <matplotlib.lines.Line2D at 0x15e70ac0>,\n",
       " <matplotlib.lines.Line2D at 0x15e70b80>,\n",
       " <matplotlib.lines.Line2D at 0x15e70c40>,\n",
       " <matplotlib.lines.Line2D at 0x15e70d00>]"
      ]
     },
     "execution_count": 38,
     "metadata": {},
     "output_type": "execute_result"
    },
    {
     "data": {
      "image/png": "[encoded data removed]",
      "text/plain": [
       "<Figure size 720x432 with 1 Axes>"
      ]
     },
     "metadata": {
      "needs_background": "light"
     },
     "output_type": "display_data"
    }
   ],
   "source": [
    "plt.figure(figsize=(10,6))\n",
    "plt.plot(price_list)"
   ]
  }
 ],
 "metadata": {
  "kernelspec": {
   "display_name": "Python 3",
   "language": "python",
   "name": "python3"
  },
  "language_info": {
   "codemirror_mode": {
    "name": "ipython",
    "version": 3
   },
   "file_extension": ".py",
   "mimetype": "text/x-python",
   "name": "python",
   "nbconvert_exporter": "python",
   "pygments_lexer": "ipython3",
   "version": "3.8.5"
  }
 },
 "nbformat": 4,
 "nbformat_minor": 4
}
